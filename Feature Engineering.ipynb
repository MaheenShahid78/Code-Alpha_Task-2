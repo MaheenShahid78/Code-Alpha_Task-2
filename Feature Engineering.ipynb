{
 "cells": [
  {
   "cell_type": "code",
   "execution_count": 3,
   "id": "3c62ebb7",
   "metadata": {},
   "outputs": [],
   "source": [
    "import pandas as pd\n",
    "import numpy as np"
   ]
  },
  {
   "cell_type": "code",
   "execution_count": 4,
   "id": "70e8f529",
   "metadata": {},
   "outputs": [
    {
     "name": "stdout",
     "output_type": "stream",
     "text": [
      "   UDI Product ID Type  Air temperature [K]  Process temperature [K]  \\\n",
      "0    1     M14860    M                298.1                    308.6   \n",
      "1    2     L47181    L                298.2                    308.7   \n",
      "2    3     L47182    L                298.1                    308.5   \n",
      "3    4     L47183    L                298.2                    308.6   \n",
      "4    5     L47184    L                298.2                    308.7   \n",
      "\n",
      "   Rotational speed [rpm]  Torque [Nm]  Tool wear [min]  Machine failure  TWF  \\\n",
      "0                    1551         42.8                0                0    0   \n",
      "1                    1408         46.3                3                0    0   \n",
      "2                    1498         49.4                5                0    0   \n",
      "3                    1433         39.5                7                0    0   \n",
      "4                    1408         40.0                9                0    0   \n",
      "\n",
      "   HDF  PWF  OSF  RNF  \n",
      "0    0    0    0    0  \n",
      "1    0    0    0    0  \n",
      "2    0    0    0    0  \n",
      "3    0    0    0    0  \n",
      "4    0    0    0    0  \n"
     ]
    }
   ],
   "source": [
    "# Load the dataset\n",
    "df = pd.read_csv('machine failure.csv')\n",
    "print(df.head())"
   ]
  },
  {
   "cell_type": "code",
   "execution_count": 5,
   "id": "d74161bd",
   "metadata": {},
   "outputs": [
    {
     "name": "stdout",
     "output_type": "stream",
     "text": [
      "Missing values in each column:\n",
      "UDI                        0\n",
      "Product ID                 0\n",
      "Type                       0\n",
      "Air temperature [K]        0\n",
      "Process temperature [K]    0\n",
      "Rotational speed [rpm]     0\n",
      "Torque [Nm]                0\n",
      "Tool wear [min]            0\n",
      "Machine failure            0\n",
      "TWF                        0\n",
      "HDF                        0\n",
      "PWF                        0\n",
      "OSF                        0\n",
      "RNF                        0\n",
      "dtype: int64\n"
     ]
    }
   ],
   "source": [
    "# Check for missing values\n",
    "missing_values = df.isnull().sum()\n",
    "print(\"Missing values in each column:\")\n",
    "print(missing_values)"
   ]
  },
  {
   "cell_type": "code",
   "execution_count": 6,
   "id": "1a45c566",
   "metadata": {},
   "outputs": [],
   "source": [
    "# Create time-based feature\n",
    "df['time_index'] = np.arange(len(df))"
   ]
  },
  {
   "cell_type": "code",
   "execution_count": 7,
   "id": "35506b81",
   "metadata": {},
   "outputs": [],
   "source": [
    "# Create rolling statistics features\n",
    "df['rolling_avg_temp'] = df['Air temperature [K]'].rolling(window=5).mean()\n",
    "df['rolling_avg_rot_speed'] = df['Rotational speed [rpm]'].rolling(window=5).mean()\n",
    "df['rolling_avg_torque'] = df['Torque [Nm]'].rolling(window=5).mean()"
   ]
  },
  {
   "cell_type": "code",
   "execution_count": 8,
   "id": "7be5594d",
   "metadata": {},
   "outputs": [],
   "source": [
    "# Create Exponential Moving Average (EMA) features\n",
    "df['ema_temp'] = df['Air temperature [K]'].ewm(span=5, adjust=False).mean()\n",
    "df['ema_rot_speed'] = df['Rotational speed [rpm]'].ewm(span=5, adjust=False).mean()\n",
    "df['ema_torque'] = df['Torque [Nm]'].ewm(span=5, adjust=False).mean()"
   ]
  },
  {
   "cell_type": "code",
   "execution_count": 9,
   "id": "574b92cf",
   "metadata": {},
   "outputs": [],
   "source": [
    "# Create lagged features for key variables\n",
    "df['lag_temp'] = df['Air temperature [K]'].shift(1)\n",
    "df['lag_rot_speed'] = df['Rotational speed [rpm]'].shift(1)\n",
    "df['lag_torque'] = df['Torque [Nm]'].shift(1)"
   ]
  },
  {
   "cell_type": "code",
   "execution_count": 10,
   "id": "85683199",
   "metadata": {},
   "outputs": [],
   "source": [
    "# Create interaction feature\n",
    "df['temp_torque_interaction'] = df['Air temperature [K]'] * df['Torque [Nm]']"
   ]
  },
  {
   "cell_type": "code",
   "execution_count": 11,
   "id": "855af0c0",
   "metadata": {},
   "outputs": [],
   "source": [
    "# Create cumulative sum (cumsum) features\n",
    "df['cumsum_temp'] = df['Air temperature [K]'].cumsum()\n",
    "df['cumsum_rot_speed'] = df['Rotational speed [rpm]'].cumsum()\n",
    "df['cumsum_torque'] = df['Torque [Nm]'].cumsum()"
   ]
  },
  {
   "cell_type": "code",
   "execution_count": 12,
   "id": "7dbbde40",
   "metadata": {},
   "outputs": [],
   "source": [
    "# Create rate of change (ROC) features\n",
    "df['roc_temp'] = df['Air temperature [K]'].pct_change()\n",
    "df['roc_rot_speed'] = df['Rotational speed [rpm]'].pct_change()\n",
    "df['roc_torque'] = df['Torque [Nm]'].pct_change()"
   ]
  },
  {
   "cell_type": "code",
   "execution_count": 13,
   "id": "8237e748",
   "metadata": {},
   "outputs": [],
   "source": [
    "# Create outlier detection feature\n",
    "df['temp_outlier'] = (df['Air temperature [K]'] > df['Air temperature [K]'].mean() + 3*df['Air temperature [K]'].std()) | \\\n",
    "                     (df['Air temperature [K]'] < df['Air temperature [K]'].mean() - 3*df['Air temperature [K]'].std())"
   ]
  },
  {
   "cell_type": "code",
   "execution_count": 14,
   "id": "e1b5bcce",
   "metadata": {},
   "outputs": [],
   "source": [
    "# Create polynomial features\n",
    "df['temp_squared'] = df['Air temperature [K]'] ** 2\n",
    "df['rot_speed_squared'] = df['Rotational speed [rpm]'] ** 2\n",
    "df['torque_squared'] = df['Torque [Nm]'] ** 2"
   ]
  },
  {
   "cell_type": "code",
   "execution_count": 15,
   "id": "01ba74b3",
   "metadata": {},
   "outputs": [],
   "source": [
    "# Create binned features\n",
    "df['binned_temp'] = pd.qcut(df['Air temperature [K]'], q=4, labels=False)\n",
    "df['binned_rot_speed'] = pd.qcut(df['Rotational speed [rpm]'], q=4, labels=False)\n",
    "df['binned_torque'] = pd.qcut(df['Torque [Nm]'], q=4, labels=False)"
   ]
  },
  {
   "cell_type": "code",
   "execution_count": 16,
   "id": "bd5d2342",
   "metadata": {},
   "outputs": [],
   "source": [
    "# Create failure rate features\n",
    "df['failure_rate'] = df['Machine failure'].rolling(window=10).mean().shift(1)"
   ]
  },
  {
   "cell_type": "code",
   "execution_count": 17,
   "id": "401b927d",
   "metadata": {},
   "outputs": [],
   "source": [
    "# Create time since last failure feature\n",
    "df['time_since_last_failure'] = df['Machine failure'].cumsum().shift(1).fillna(0)"
   ]
  },
  {
   "cell_type": "code",
   "execution_count": 18,
   "id": "cd7a684f",
   "metadata": {},
   "outputs": [],
   "source": [
    "# Create categorical encoding features\n",
    "df = pd.get_dummies(df, columns=['Type'], drop_first=True)"
   ]
  },
  {
   "cell_type": "code",
   "execution_count": 19,
   "id": "0d677783",
   "metadata": {},
   "outputs": [
    {
     "name": "stdout",
     "output_type": "stream",
     "text": [
      "Updated DataFrame with new features:\n",
      "   UDI Product ID  Air temperature [K]  Process temperature [K]  \\\n",
      "0    1     M14860                298.1                    308.6   \n",
      "1    2     L47181                298.2                    308.7   \n",
      "2    3     L47182                298.1                    308.5   \n",
      "3    4     L47183                298.2                    308.6   \n",
      "4    5     L47184                298.2                    308.7   \n",
      "\n",
      "   Rotational speed [rpm]  Torque [Nm]  Tool wear [min]  Machine failure  TWF  \\\n",
      "0                    1551         42.8                0                0    0   \n",
      "1                    1408         46.3                3                0    0   \n",
      "2                    1498         49.4                5                0    0   \n",
      "3                    1433         39.5                7                0    0   \n",
      "4                    1408         40.0                9                0    0   \n",
      "\n",
      "   HDF  ...  temp_squared  rot_speed_squared  torque_squared  binned_temp  \\\n",
      "0    0  ...      88863.61            2405601         1831.84            0   \n",
      "1    0  ...      88923.24            1982464         2143.69            0   \n",
      "2    0  ...      88863.61            2244004         2440.36            0   \n",
      "3    0  ...      88923.24            2053489         1560.25            0   \n",
      "4    0  ...      88923.24            1982464         1600.00            0   \n",
      "\n",
      "   binned_rot_speed  binned_torque  failure_rate  time_since_last_failure  \\\n",
      "0                 2              2           NaN                      0.0   \n",
      "1                 0              2           NaN                      0.0   \n",
      "2                 1              3           NaN                      0.0   \n",
      "3                 1              1           NaN                      0.0   \n",
      "4                 0              1           NaN                      0.0   \n",
      "\n",
      "   Type_L  Type_M  \n",
      "0   False    True  \n",
      "1    True   False  \n",
      "2    True   False  \n",
      "3    True   False  \n",
      "4    True   False  \n",
      "\n",
      "[5 rows x 41 columns]\n"
     ]
    }
   ],
   "source": [
    "# Display the updated DataFrame with new features\n",
    "print(\"Updated DataFrame with new features:\")\n",
    "print(df.head())"
   ]
  },
  {
   "cell_type": "code",
   "execution_count": 20,
   "id": "10bee2e1",
   "metadata": {},
   "outputs": [
    {
     "name": "stdout",
     "output_type": "stream",
     "text": [
      "Missing values after feature engineering:\n",
      "UDI                         0\n",
      "Product ID                  0\n",
      "Air temperature [K]         0\n",
      "Process temperature [K]     0\n",
      "Rotational speed [rpm]      0\n",
      "Torque [Nm]                 0\n",
      "Tool wear [min]             0\n",
      "Machine failure             0\n",
      "TWF                         0\n",
      "HDF                         0\n",
      "PWF                         0\n",
      "OSF                         0\n",
      "RNF                         0\n",
      "time_index                  0\n",
      "rolling_avg_temp            4\n",
      "rolling_avg_rot_speed       4\n",
      "rolling_avg_torque          4\n",
      "ema_temp                    0\n",
      "ema_rot_speed               0\n",
      "ema_torque                  0\n",
      "lag_temp                    1\n",
      "lag_rot_speed               1\n",
      "lag_torque                  1\n",
      "temp_torque_interaction     0\n",
      "cumsum_temp                 0\n",
      "cumsum_rot_speed            0\n",
      "cumsum_torque               0\n",
      "roc_temp                    1\n",
      "roc_rot_speed               1\n",
      "roc_torque                  1\n",
      "temp_outlier                0\n",
      "temp_squared                0\n",
      "rot_speed_squared           0\n",
      "torque_squared              0\n",
      "binned_temp                 0\n",
      "binned_rot_speed            0\n",
      "binned_torque               0\n",
      "failure_rate               10\n",
      "time_since_last_failure     0\n",
      "Type_L                      0\n",
      "Type_M                      0\n",
      "dtype: int64\n"
     ]
    }
   ],
   "source": [
    "# Check for any missing values after feature engineering\n",
    "missing_values_after = df.isnull().sum()\n",
    "print(\"Missing values after feature engineering:\")\n",
    "print(missing_values_after)\n"
   ]
  },
  {
   "cell_type": "code",
   "execution_count": 22,
   "id": "2160c2d4",
   "metadata": {},
   "outputs": [],
   "source": [
    "# Save the updated DataFrame to a new CSV file\n",
    "df.to_csv('machine_failure_engineered_v2.csv', index=False)"
   ]
  }
 ],
 "metadata": {
  "kernelspec": {
   "display_name": "Python 3 (ipykernel)",
   "language": "python",
   "name": "python3"
  },
  "language_info": {
   "codemirror_mode": {
    "name": "ipython",
    "version": 3
   },
   "file_extension": ".py",
   "mimetype": "text/x-python",
   "name": "python",
   "nbconvert_exporter": "python",
   "pygments_lexer": "ipython3",
   "version": "3.11.5"
  }
 },
 "nbformat": 4,
 "nbformat_minor": 5
}
